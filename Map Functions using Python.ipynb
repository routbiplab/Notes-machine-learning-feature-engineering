{
 "cells": [
  {
   "cell_type": "code",
   "execution_count": 1,
   "id": "02025d4c",
   "metadata": {},
   "outputs": [],
   "source": [
    "def checknum(num):\n",
    "    if num%2==0:\n",
    "        return \"The number {} is Even\".format(num)\n",
    "    else:\n",
    "        return \"The number {} is Odd\".format(num)"
   ]
  },
  {
   "cell_type": "code",
   "execution_count": 2,
   "id": "977b88ba",
   "metadata": {},
   "outputs": [],
   "source": [
    "lst=[23,45,34,66,78,95,32]"
   ]
  },
  {
   "cell_type": "code",
   "execution_count": 13,
   "id": "50e4e737",
   "metadata": {},
   "outputs": [
    {
     "data": {
      "text/plain": [
       "[23, 45, 34, 66, 78, 95, 32]"
      ]
     },
     "execution_count": 13,
     "metadata": {},
     "output_type": "execute_result"
    }
   ],
   "source": [
    "lst"
   ]
  },
  {
   "cell_type": "code",
   "execution_count": 3,
   "id": "099d7ee9",
   "metadata": {},
   "outputs": [
    {
     "data": {
      "text/plain": [
       "['The number 23 is Odd',\n",
       " 'The number 45 is Odd',\n",
       " 'The number 34 is Even',\n",
       " 'The number 66 is Even',\n",
       " 'The number 78 is Even',\n",
       " 'The number 95 is Odd',\n",
       " 'The number 32 is Even']"
      ]
     },
     "execution_count": 3,
     "metadata": {},
     "output_type": "execute_result"
    }
   ],
   "source": [
    "list(map(checknum,lst))"
   ]
  },
  {
   "cell_type": "code",
   "execution_count": null,
   "id": "655de2e9",
   "metadata": {},
   "outputs": [],
   "source": []
  }
 ],
 "metadata": {
  "kernelspec": {
   "display_name": "Python 3",
   "language": "python",
   "name": "python3"
  },
  "language_info": {
   "codemirror_mode": {
    "name": "ipython",
    "version": 3
   },
   "file_extension": ".py",
   "mimetype": "text/x-python",
   "name": "python",
   "nbconvert_exporter": "python",
   "pygments_lexer": "ipython3",
   "version": "3.8.8"
  }
 },
 "nbformat": 4,
 "nbformat_minor": 5
}
