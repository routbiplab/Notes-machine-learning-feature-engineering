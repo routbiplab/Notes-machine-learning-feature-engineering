{
 "cells": [
  {
   "cell_type": "code",
   "execution_count": 2,
   "id": "5569b6fc",
   "metadata": {},
   "outputs": [],
   "source": [
    "def intro(name,age):\n",
    "    print(\"Hello Mr. {} and your age is {}\".format(name,age))"
   ]
  },
  {
   "cell_type": "code",
   "execution_count": 3,
   "id": "5e3a7c30",
   "metadata": {},
   "outputs": [
    {
     "name": "stdout",
     "output_type": "stream",
     "text": [
      "Hello Mr. Biplab and your age is 29\n"
     ]
    }
   ],
   "source": [
    "intro(\"Biplab\",29)"
   ]
  },
  {
   "cell_type": "code",
   "execution_count": 4,
   "id": "1d98796d",
   "metadata": {},
   "outputs": [],
   "source": [
    "# postional argument = name\n",
    "# keyword argument = age\n",
    "\n",
    "def hello(name,age=29):\n",
    "    print(\"hello {} and age is {}\".format(name,age))"
   ]
  },
  {
   "cell_type": "code",
   "execution_count": 5,
   "id": "a1acf989",
   "metadata": {},
   "outputs": [
    {
     "name": "stdout",
     "output_type": "stream",
     "text": [
      "hello bips and age is 29\n"
     ]
    }
   ],
   "source": [
    "hello(\"bips\")"
   ]
  },
  {
   "cell_type": "code",
   "execution_count": 6,
   "id": "3aa0f703",
   "metadata": {},
   "outputs": [],
   "source": [
    "def intro(*args,**kwargs):\n",
    "    print(args)\n",
    "    print(kwargs)"
   ]
  },
  {
   "cell_type": "code",
   "execution_count": 13,
   "id": "a9c58869",
   "metadata": {},
   "outputs": [
    {
     "name": "stdout",
     "output_type": "stream",
     "text": [
      "('rocky', 'rout')\n",
      "{'age': 28}\n"
     ]
    }
   ],
   "source": [
    "intro(\"rocky\",\"rout\",age=28)"
   ]
  },
  {
   "cell_type": "code",
   "execution_count": 14,
   "id": "f2cc6804",
   "metadata": {},
   "outputs": [
    {
     "name": "stdout",
     "output_type": "stream",
     "text": [
      "(['rocky', 'rout'], {'age': 28})\n",
      "{}\n"
     ]
    }
   ],
   "source": [
    "list=['rocky', 'rout']\n",
    "dict={'age': 28}\n",
    "intro(list,dict)"
   ]
  },
  {
   "cell_type": "code",
   "execution_count": 15,
   "id": "41eb8f7e",
   "metadata": {},
   "outputs": [
    {
     "name": "stdout",
     "output_type": "stream",
     "text": [
      "('rocky', 'rout')\n",
      "{'age': 28}\n"
     ]
    }
   ],
   "source": [
    "intro(*list,**dict)"
   ]
  },
  {
   "cell_type": "code",
   "execution_count": 21,
   "id": "8620bf15",
   "metadata": {},
   "outputs": [],
   "source": [
    "def sum(lst):\n",
    "    sum_even=0\n",
    "    sum_odd=0\n",
    "    for i in lst:\n",
    "        if i%2 == 0:\n",
    "            sum_even=sum_even+i\n",
    "        else:\n",
    "            sum_odd=sum_odd+i\n",
    "    return sum_even,sum_odd            "
   ]
  },
  {
   "cell_type": "code",
   "execution_count": 17,
   "id": "f4a50467",
   "metadata": {},
   "outputs": [],
   "source": [
    "lst=[1,2,3,4,5,6,7,8,9]"
   ]
  },
  {
   "cell_type": "code",
   "execution_count": 22,
   "id": "bee59c0a",
   "metadata": {},
   "outputs": [
    {
     "data": {
      "text/plain": [
       "(20, 25)"
      ]
     },
     "execution_count": 22,
     "metadata": {},
     "output_type": "execute_result"
    }
   ],
   "source": [
    "sum(lst)"
   ]
  }
 ],
 "metadata": {
  "kernelspec": {
   "display_name": "Python 3",
   "language": "python",
   "name": "python3"
  },
  "language_info": {
   "codemirror_mode": {
    "name": "ipython",
    "version": 3
   },
   "file_extension": ".py",
   "mimetype": "text/x-python",
   "name": "python",
   "nbconvert_exporter": "python",
   "pygments_lexer": "ipython3",
   "version": "3.8.8"
  }
 },
 "nbformat": 4,
 "nbformat_minor": 5
}
