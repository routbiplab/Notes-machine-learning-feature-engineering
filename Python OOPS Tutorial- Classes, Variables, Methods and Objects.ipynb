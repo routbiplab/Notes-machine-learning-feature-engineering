{
 "cells": [
  {
   "cell_type": "code",
   "execution_count": 11,
   "id": "159d0e14",
   "metadata": {},
   "outputs": [],
   "source": [
    "class Car:\n",
    "    def __init__(self,door,window,engine):\n",
    "        self.doors=door\n",
    "        self.windows=window\n",
    "        self.engine=engine"
   ]
  },
  {
   "cell_type": "code",
   "execution_count": 12,
   "id": "25fdcdaa",
   "metadata": {},
   "outputs": [],
   "source": [
    "car1=Car(4,4,\"manual\")"
   ]
  },
  {
   "cell_type": "code",
   "execution_count": 9,
   "id": "5b924c9c",
   "metadata": {},
   "outputs": [
    {
     "data": {
      "text/plain": [
       "['__class__',\n",
       " '__delattr__',\n",
       " '__dict__',\n",
       " '__dir__',\n",
       " '__doc__',\n",
       " '__eq__',\n",
       " '__format__',\n",
       " '__ge__',\n",
       " '__getattribute__',\n",
       " '__gt__',\n",
       " '__hash__',\n",
       " '__init__',\n",
       " '__init_subclass__',\n",
       " '__le__',\n",
       " '__lt__',\n",
       " '__module__',\n",
       " '__ne__',\n",
       " '__new__',\n",
       " '__reduce__',\n",
       " '__reduce_ex__',\n",
       " '__repr__',\n",
       " '__setattr__',\n",
       " '__sizeof__',\n",
       " '__str__',\n",
       " '__subclasshook__',\n",
       " '__weakref__',\n",
       " 'door',\n",
       " 'engine']"
      ]
     },
     "execution_count": 9,
     "metadata": {},
     "output_type": "execute_result"
    }
   ],
   "source": [
    "dir(car1)"
   ]
  },
  {
   "cell_type": "code",
   "execution_count": 14,
   "id": "41eea786",
   "metadata": {},
   "outputs": [
    {
     "name": "stdout",
     "output_type": "stream",
     "text": [
      "4\n"
     ]
    }
   ],
   "source": [
    "print(car1.doors)"
   ]
  },
  {
   "cell_type": "code",
   "execution_count": 15,
   "id": "dcfe8cb7",
   "metadata": {},
   "outputs": [
    {
     "name": "stdout",
     "output_type": "stream",
     "text": [
      "manual\n"
     ]
    }
   ],
   "source": [
    "print(car1.engine)"
   ]
  },
  {
   "cell_type": "code",
   "execution_count": 33,
   "id": "889e4fb6",
   "metadata": {},
   "outputs": [],
   "source": [
    "class Human:\n",
    "    def __init__(self,eye,legs,hands):\n",
    "        self.eye=eye\n",
    "        self.legs=legs\n",
    "        self.hands=hands\n",
    "    def species(self):\n",
    "        if self.eye==2:\n",
    "            return \"it is a homphobian species\"\n",
    "        else:\n",
    "            return \"this is something else\""
   ]
  },
  {
   "cell_type": "code",
   "execution_count": 34,
   "id": "04e852e6",
   "metadata": {},
   "outputs": [],
   "source": [
    "human1=Human(4,2,2)"
   ]
  },
  {
   "cell_type": "code",
   "execution_count": 31,
   "id": "e88b3075",
   "metadata": {},
   "outputs": [
    {
     "name": "stdout",
     "output_type": "stream",
     "text": [
      "2\n"
     ]
    }
   ],
   "source": [
    "print(human1.hands)"
   ]
  },
  {
   "cell_type": "code",
   "execution_count": 35,
   "id": "fa169bcc",
   "metadata": {},
   "outputs": [
    {
     "data": {
      "text/plain": [
       "'this is something else'"
      ]
     },
     "execution_count": 35,
     "metadata": {},
     "output_type": "execute_result"
    }
   ],
   "source": [
    "human1.species()"
   ]
  },
  {
   "cell_type": "code",
   "execution_count": 28,
   "id": "57c2b622",
   "metadata": {},
   "outputs": [
    {
     "ename": "NameError",
     "evalue": "name 'species' is not defined",
     "output_type": "error",
     "traceback": [
      "\u001b[1;31m---------------------------------------------------------------------------\u001b[0m",
      "\u001b[1;31mNameError\u001b[0m                                 Traceback (most recent call last)",
      "\u001b[1;32m<ipython-input-28-93e2d6e63be0>\u001b[0m in \u001b[0;36m<module>\u001b[1;34m\u001b[0m\n\u001b[1;32m----> 1\u001b[1;33m \u001b[0mprint\u001b[0m\u001b[1;33m(\u001b[0m\u001b[0mspecies\u001b[0m\u001b[1;33m)\u001b[0m\u001b[1;33m\u001b[0m\u001b[1;33m\u001b[0m\u001b[0m\n\u001b[0m",
      "\u001b[1;31mNameError\u001b[0m: name 'species' is not defined"
     ]
    }
   ],
   "source": [
    "print(species)"
   ]
  }
 ],
 "metadata": {
  "kernelspec": {
   "display_name": "Python 3",
   "language": "python",
   "name": "python3"
  },
  "language_info": {
   "codemirror_mode": {
    "name": "ipython",
    "version": 3
   },
   "file_extension": ".py",
   "mimetype": "text/x-python",
   "name": "python",
   "nbconvert_exporter": "python",
   "pygments_lexer": "ipython3",
   "version": "3.8.8"
  }
 },
 "nbformat": 4,
 "nbformat_minor": 5
}
