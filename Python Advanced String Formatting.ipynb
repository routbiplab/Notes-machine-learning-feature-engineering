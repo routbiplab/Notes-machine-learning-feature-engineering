{
 "cells": [
  {
   "cell_type": "code",
   "execution_count": 6,
   "id": "1f445504",
   "metadata": {},
   "outputs": [],
   "source": [
    "def info(name,place):\n",
    "    print(\"hello dear {name1}. you stay in {place1} since {year}\".format(name1=name,place1=place,year=2020))"
   ]
  },
  {
   "cell_type": "code",
   "execution_count": 7,
   "id": "551ff248",
   "metadata": {},
   "outputs": [
    {
     "name": "stdout",
     "output_type": "stream",
     "text": [
      "hello dear rocky. you stay in kolkata since 2020\n"
     ]
    }
   ],
   "source": [
    "info(\"rocky\",\"kolkata\")"
   ]
  },
  {
   "cell_type": "code",
   "execution_count": null,
   "id": "aa9e1ca9",
   "metadata": {},
   "outputs": [],
   "source": []
  },
  {
   "cell_type": "code",
   "execution_count": null,
   "id": "881a5a6a",
   "metadata": {},
   "outputs": [],
   "source": []
  }
 ],
 "metadata": {
  "kernelspec": {
   "display_name": "Python 3",
   "language": "python",
   "name": "python3"
  },
  "language_info": {
   "codemirror_mode": {
    "name": "ipython",
    "version": 3
   },
   "file_extension": ".py",
   "mimetype": "text/x-python",
   "name": "python",
   "nbconvert_exporter": "python",
   "pygments_lexer": "ipython3",
   "version": "3.8.8"
  }
 },
 "nbformat": 4,
 "nbformat_minor": 5
}
